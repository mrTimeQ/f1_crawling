{
 "cells": [
  {
   "cell_type": "code",
   "execution_count": 3,
   "metadata": {},
   "outputs": [],
   "source": [
    "import requests\n",
    "from bs4 import BeautifulSoup"
   ]
  },
  {
   "cell_type": "code",
   "execution_count": 4,
   "metadata": {},
   "outputs": [],
   "source": [
    "url = \"https://www.formula1.com/en/results/2024/drivers\";\n",
    "response = requests.get(url);\n"
   ]
  },
  {
   "cell_type": "code",
   "execution_count": 7,
   "metadata": {},
   "outputs": [],
   "source": [
    "if response.status_code == 200:\n",
    "    soup = BeautifulSoup(response.content, 'html.parser');\n",
    "    "
   ]
  },
  {
   "cell_type": "code",
   "execution_count": 10,
   "metadata": {},
   "outputs": [
    {
     "data": {
      "text/plain": [
       "<div class=\"grid grid-cols-[auto_auto] order-1 laptop:order-5 w-full laptop:w-auto gap-[12px] tablet:gap-[30px] laptop:gap-[6px] m-auto py-15 laptop:py-[2px]\"><!--$--><a class=\"grid grid-flow-col auto-cols-max rounded-5 cursor-pointer items-center transition-colors duration-200 font-titillium font-[600] w-full min-w-max laptop:w-auto laptop:text-center laptop:auto-cols-auto focus-visible:outline focus-visible:outline-offset-2 focus-visible:outline-[3px] focus-visible:outline-carbonBlack disabled:pointer-events-none disabled:opacity-75 disabled:cursor-default text-12 px-[15px] gap-[8px] h-[39px] bg-carbonBlack text-white uppercase items-center justify-center !font-[400] laptop:!font-[600] laptop:!grid hover:bg-lightBlack\" data-action-type=\"CTA Click | Sign In\" data-event=\"headerProfileNavigation\" data-path=\"https://account.formula1.com/#/en/login?redirect=https%3A%2F%2Fwww.formula1.com%2Fen%2Fresults%2F2024%2Fdrivers&amp;lead_source=web_f1core\" data-testid=\"profile-button\" href=\"https://account.formula1.com/#/en/login?redirect=https%3A%2F%2Fwww.formula1.com%2Fen%2Fresults%2F2024%2Fdrivers&amp;lead_source=web_f1core\"><span aria-hidden=\"true\" class=\"font-icomoon font-light m-auto leading-none text-16 text-undefined icon-user m-0\"></span><span class=\"font-titillium leading-none text-12\">Sign In</span></a><!--/$--><a class=\"grid grid-flow-col auto-cols-max rounded-5 cursor-pointer items-center transition-colors duration-200 font-titillium font-[600] w-full min-w-max laptop:w-auto laptop:text-center laptop:auto-cols-auto focus-visible:outline focus-visible:outline-offset-2 focus-visible:outline-[3px] focus-visible:outline-carbonBlack disabled:pointer-events-none disabled:opacity-75 disabled:cursor-default text-12 px-[15px] gap-[8px] h-[39px] bg-primary text-white shadow-inner items-center uppercase justify-center !font-[400] laptop:!font-[600] laptop:!grid laptop:hover:bg-white laptop:hover:text-carbonBlack laptop:focus:bg-white laptop:focus:text-carbonBlack\" data-action-type=\"CTA Click | Subscribe\" data-event=\"headerProfileNavigation\" data-path=\"/subscribe-to-f1-tv\" data-testid=\"subscribe-button\" href=\"/subscribe-to-f1-tv\"><span class=\"font-titillium leading-none text-12\">Subscribe</span></a></div>"
      ]
     },
     "execution_count": 10,
     "metadata": {},
     "output_type": "execute_result"
    }
   ],
   "source": []
  }
 ],
 "metadata": {
  "kernelspec": {
   "display_name": "venv",
   "language": "python",
   "name": "python3"
  },
  "language_info": {
   "codemirror_mode": {
    "name": "ipython",
    "version": 3
   },
   "file_extension": ".py",
   "mimetype": "text/x-python",
   "name": "python",
   "nbconvert_exporter": "python",
   "pygments_lexer": "ipython3",
   "version": "3.10.11"
  }
 },
 "nbformat": 4,
 "nbformat_minor": 2
}
