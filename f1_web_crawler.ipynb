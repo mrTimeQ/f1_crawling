{
 "cells": [
  {
   "cell_type": "code",
   "execution_count": 5,
   "metadata": {},
   "outputs": [],
   "source": [
    "import requests\n",
    "from bs4 import BeautifulSoup"
   ]
  },
  {
   "cell_type": "code",
   "execution_count": 6,
   "metadata": {},
   "outputs": [],
   "source": [
    "url = \"https://www.formula1.com/en/results/2024/drivers\";\n",
    "response = requests.get(url);\n"
   ]
  },
  {
   "cell_type": "code",
   "execution_count": 46,
   "metadata": {},
   "outputs": [
    {
     "name": "stdout",
     "output_type": "stream",
     "text": [
      "['VER']\n",
      "['NOR']\n",
      "['LEC']\n",
      "['PIA']\n",
      "['SAI']\n",
      "['HAM']\n",
      "['RUS']\n",
      "['PER']\n",
      "['ALO']\n",
      "['HUL']\n",
      "['STR']\n",
      "['TSU']\n",
      "['ALB']\n",
      "['RIC']\n",
      "['GAS']\n",
      "['BEA']\n",
      "['MAG']\n",
      "['OCO']\n",
      "['COL']\n",
      "['ZHO']\n",
      "['SAR']\n",
      "['BOT']\n"
     ]
    }
   ],
   "source": [
    "if response.status_code == 200:\n",
    "    soup = BeautifulSoup(response.content, 'html.parser');\n",
    "    table = soup.find('table', class_='f1-table-with-data');\n",
    "    # Extract the rows of the table\n",
    "    rows =  table.find_all('tr');\n",
    "    for row_id, row in enumerate(rows):\n",
    "        columns = row.find_all('td');\n",
    "        if columns:\n",
    "           # print(f'{row_id} . {columns}')\n",
    "            position = columns[1].text;\n",
    "            hidden_position = columns[1].find('span', class_='tablet:hidden').text.split();\n",
    "            driver_name = columns[2].text;\n",
    "            print(hidden_position);"
   ]
  }
 ],
 "metadata": {
  "kernelspec": {
   "display_name": "venv",
   "language": "python",
   "name": "python3"
  },
  "language_info": {
   "codemirror_mode": {
    "name": "ipython",
    "version": 3
   },
   "file_extension": ".py",
   "mimetype": "text/x-python",
   "name": "python",
   "nbconvert_exporter": "python",
   "pygments_lexer": "ipython3",
   "version": "3.12.6"
  }
 },
 "nbformat": 4,
 "nbformat_minor": 2
}
